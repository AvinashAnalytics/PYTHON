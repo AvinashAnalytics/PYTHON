{
 "cells": [
  {
   "cell_type": "markdown",
   "metadata": {},
   "source": [
    "## Module 2: Functions Assignment"
   ]
  },
  {
   "cell_type": "markdown",
   "metadata": {},
   "source": [
    " Problem Statement:\n",
    " You work in XYZ Corporation as a Python Developer. Your corporation has told\n",
    " you to work with the methods, and functions in Python."
   ]
  },
  {
   "cell_type": "markdown",
   "metadata": {},
   "source": [
    " Tasks To Be Performed:\n",
    " "
   ]
  },
  {
   "cell_type": "markdown",
   "metadata": {},
   "source": [
    "1. Create a class named ‘Super’ and inside that class define a user-defined\n",
    " function named fun1\n",
    " a. Inside the ‘fun1’ function, pass the message “This is function 1 in the\n",
    " Super class.” in the print statement."
   ]
  },
  {
   "cell_type": "code",
   "execution_count": 2,
   "metadata": {},
   "outputs": [
    {
     "name": "stdout",
     "output_type": "stream",
     "text": [
      "This is function 1 in the Super class.\n"
     ]
    }
   ],
   "source": [
    "class Super:\n",
    "    def fun1(self):\n",
    "        print(\"This is function 1 in the Super class.\")\n",
    "\n",
    "# Test the class\n",
    "super_obj = Super()\n",
    "super_obj.fun1()  \n"
   ]
  },
  {
   "cell_type": "markdown",
   "metadata": {},
   "source": [
    "2. Create another class named Modified_Super that inherits from the Super class."
   ]
  },
  {
   "cell_type": "code",
   "execution_count": 3,
   "metadata": {},
   "outputs": [
    {
     "name": "stdout",
     "output_type": "stream",
     "text": [
      "This is function 1 in the Modified Super class.\n",
      "This is the 2nd function from the Modified Super class.\n"
     ]
    }
   ],
   "source": [
    "class Super:\n",
    "    def fun1(self):\n",
    "        print(\"This is function 1 in the Super class.\")\n",
    "\n",
    "class Modified_Super(Super):  # Inheriting from Super class\n",
    "    def fun1(self):\n",
    "        print(\"This is function 1 in the Modified Super class.\")\n",
    "    \n",
    "    def fun2(self):\n",
    "        print(\"This is the 2nd function from the Modified Super class.\")\n",
    "\n",
    "# Test the class\n",
    "modified_super_obj = Modified_Super()\n",
    "modified_super_obj.fun1()  \n",
    "modified_super_obj.fun2() \n"
   ]
  },
  {
   "cell_type": "markdown",
   "metadata": {},
   "source": [
    "Create 2 methods named ‘Hello’. In the 1st Hello method, pass only one\n",
    " argument and pass this message: ‘This function is only having 1\n",
    " argument’. And in the 2nd Hello method, pass two arguments and pass\n",
    " this message: ‘This function is having 2 arguments’.\n",
    " \n",
    " a. Try to call both the methods and analyze the output of both the methods."
   ]
  },
  {
   "cell_type": "code",
   "execution_count": 4,
   "metadata": {},
   "outputs": [
    {
     "name": "stdout",
     "output_type": "stream",
     "text": [
      "This function is only having 1 argument\n",
      "This function is having 2 arguments\n"
     ]
    }
   ],
   "source": [
    "class Greet:\n",
    "    def Hello(self, arg1=None, arg2=None):\n",
    "        if arg2 is None:  # Only 1 argument\n",
    "            print(\"This function is only having 1 argument\")\n",
    "        else:  # 2 arguments\n",
    "            print(\"This function is having 2 arguments\")\n",
    "\n",
    "# Test the class\n",
    "greet_obj = Greet()\n",
    "\n",
    "# Calling the methods with different number of arguments\n",
    "greet_obj.Hello(\"Argument 1\")  # Output: This function is only having 1 argument\n",
    "greet_obj.Hello(\"Argument 1\", \"Argument 2\") \n"
   ]
  },
  {
   "cell_type": "markdown",
   "metadata": {},
   "source": [
    "4. Create a method named ‘Sum’ that can accept multiple user inputs. Now\n",
    " add those user defined input values using for loop and the function should\n",
    " return the addition of the numbers"
   ]
  },
  {
   "cell_type": "code",
   "execution_count": 6,
   "metadata": {},
   "outputs": [
    {
     "name": "stdout",
     "output_type": "stream",
     "text": [
      "The sum of the numbers is: 100\n"
     ]
    }
   ],
   "source": [
    "def Sum(*args):\n",
    "    total = 0\n",
    "    for num in args:\n",
    "        total += num\n",
    "    return total\n",
    "\n",
    "# Test the function\n",
    "result = Sum(10, 20, 30, 40)\n",
    "print(f\"The sum of the numbers is: {result}\")\n"
   ]
  },
  {
   "cell_type": "markdown",
   "metadata": {},
   "source": [
    "5. Create a class named ‘Encapsulation’:\n",
    "\n",
    " a. Inside the class, first create a constructor. Inside the constructor,\n",
    " initialize originalValue variable as 10.\n",
    "\n",
    " b. After creating the constructor, define a function named ‘Value’ and this\n",
    " function should return the variable that we have initialized in the\n",
    " constructor.\n",
    "\n",
    "  c. Now create a 2nd function named setValue, and pass an argument\n",
    " named ‘newValue’. The task of this function will be to replace the value of\n",
    " the originalValue variable by the value of newValue variable"
   ]
  },
  {
   "cell_type": "code",
   "execution_count": 8,
   "metadata": {},
   "outputs": [
    {
     "name": "stdout",
     "output_type": "stream",
     "text": [
      "Original value: 10\n",
      "Updated value: 50\n"
     ]
    }
   ],
   "source": [
    "class Encapsulation:\n",
    "    def __init__(self):\n",
    "        self.originalValue = 10\n",
    "    \n",
    "    def Value(self):\n",
    "        return self.originalValue\n",
    "    \n",
    "    def setValue(self, newValue):\n",
    "        self.originalValue = newValue\n",
    "\n",
    "# Test the class\n",
    "encapsulation_obj = Encapsulation()\n",
    "print(f\"Original value: {encapsulation_obj.Value()}\")  \n",
    "\n",
    "# Set a new value\n",
    "encapsulation_obj.setValue(50)\n",
    "print(f\"Updated value: {encapsulation_obj.Value()}\") \n"
   ]
  }
 ],
 "metadata": {
  "kernelspec": {
   "display_name": "base",
   "language": "python",
   "name": "python3"
  },
  "language_info": {
   "codemirror_mode": {
    "name": "ipython",
    "version": 3
   },
   "file_extension": ".py",
   "mimetype": "text/x-python",
   "name": "python",
   "nbconvert_exporter": "python",
   "pygments_lexer": "ipython3",
   "version": "3.11.7"
  }
 },
 "nbformat": 4,
 "nbformat_minor": 2
}
