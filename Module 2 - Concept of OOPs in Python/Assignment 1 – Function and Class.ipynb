{
 "cells": [
  {
   "cell_type": "markdown",
   "metadata": {},
   "source": [
    "### Module 2: Function and Class Assignment"
   ]
  },
  {
   "cell_type": "markdown",
   "metadata": {},
   "source": [
    " Problem Statement:\n",
    " You work in XYZ Corporation as a Data Analyst. Your corporation has told you to\n",
    " work on functions and classes."
   ]
  },
  {
   "cell_type": "markdown",
   "metadata": {},
   "source": [
    " Tasks To Be Performed:"
   ]
  },
  {
   "cell_type": "markdown",
   "metadata": {},
   "source": [
    "1. Create a function named ‘factor’ that can only accept 1 argument. The\n",
    " function should return the factorial of that number."
   ]
  },
  {
   "cell_type": "code",
   "execution_count": 2,
   "metadata": {},
   "outputs": [
    {
     "name": "stdout",
     "output_type": "stream",
     "text": [
      "Enter a number to find the factorial:  5\n"
     ]
    },
    {
     "name": "stdout",
     "output_type": "stream",
     "text": [
      "The factorial of 5 is 120\n"
     ]
    }
   ],
   "source": [
    "def factor(n):\n",
    "    # Factorial function using recursion\n",
    "    if n == 0 or n == 1:\n",
    "        return 1\n",
    "    else:\n",
    "        return n * factor(n - 1)\n",
    "\n",
    "# Test the function\n",
    "num = int(input(\"Enter a number to find the factorial: \"))\n",
    "print(f\"The factorial of {num} is {factor(num)}\")\n"
   ]
  },
  {
   "cell_type": "markdown",
   "metadata": {},
   "source": [
    " 2.Create a function named ‘check_string’, the function should accept a string\n",
    " data from the user and the function should check if the user input contains\n",
    " the letter ‘s’ in it. If it contains the letter ‘s’ then print- ‘The string is\n",
    " containing the letter ‘s ’, if not then print- ‘The string doesn’t contain the\n",
    " letter ‘s ’."
   ]
  },
  {
   "cell_type": "code",
   "execution_count": 3,
   "metadata": {},
   "outputs": [
    {
     "name": "stdin",
     "output_type": "stream",
     "text": [
      "Enter a string to check for 's':  AVINASH\n"
     ]
    },
    {
     "name": "stdout",
     "output_type": "stream",
     "text": [
      "The string doesn’t contain the letter 's'\n"
     ]
    }
   ],
   "source": [
    "def check_string(user_string):\n",
    "    if 's' in user_string:\n",
    "        print(\"The string is containing the letter 's'\")\n",
    "    else:\n",
    "        print(\"The string doesn’t contain the letter 's'\")\n",
    "\n",
    "# Test the function\n",
    "input_string = input(\"Enter a string to check for 's': \")\n",
    "check_string(input_string)\n"
   ]
  },
  {
   "cell_type": "markdown",
   "metadata": {},
   "source": [
    "3. Create a class named ‘student’ and inside the class, create a function\n",
    " named ‘fun1’- this method should accept the user defined input and return\n",
    " that value:\n",
    "\n",
    " a. Create another method named- message() and that method should print\n",
    " the user defined input that we have defined in ‘fun1’."
   ]
  },
  {
   "cell_type": "code",
   "execution_count": 4,
   "metadata": {},
   "outputs": [
    {
     "name": "stdin",
     "output_type": "stream",
     "text": [
      "Enter some text:  AVINASH\n"
     ]
    },
    {
     "name": "stdout",
     "output_type": "stream",
     "text": [
      "Returned value from fun1: AVINASH\n",
      "The user input is: AVINASH\n"
     ]
    }
   ],
   "source": [
    "class Student:\n",
    "    def __init__(self):\n",
    "        self.user_input = None\n",
    "    \n",
    "    def fun1(self, input_value):\n",
    "        self.user_input = input_value\n",
    "        return self.user_input\n",
    "    \n",
    "    def message(self):\n",
    "        print(f\"The user input is: {self.user_input}\")\n",
    "\n",
    "# Test the class and methods\n",
    "student_obj = Student()\n",
    "user_input = input(\"Enter some text: \")\n",
    "print(f\"Returned value from fun1: {student_obj.fun1(user_input)}\")\n",
    "student_obj.message()  # This will print the user-defined input\n"
   ]
  },
  {
   "cell_type": "markdown",
   "metadata": {},
   "source": [
    "4. Create a lambda function that should double or multiply the number (that\n",
    " we will be passing in the lambda function) by 2. Store the lambda function\n",
    " in a variable named ‘double_num’"
   ]
  },
  {
   "cell_type": "code",
   "execution_count": 5,
   "metadata": {},
   "outputs": [
    {
     "name": "stdin",
     "output_type": "stream",
     "text": [
      "Enter a number to double:  18\n"
     ]
    },
    {
     "name": "stdout",
     "output_type": "stream",
     "text": [
      "The doubled number is: 36\n"
     ]
    }
   ],
   "source": [
    "# Lambda function to multiply a number by 2\n",
    "double_num = lambda x: x * 2\n",
    "\n",
    "# Test the lambda function\n",
    "number = int(input(\"Enter a number to double: \"))\n",
    "print(f\"The doubled number is: {double_num(number)}\")\n"
   ]
  },
  {
   "cell_type": "markdown",
   "metadata": {},
   "source": [
    " 5. Take user input string and check whether that string is palindrome or not."
   ]
  },
  {
   "cell_type": "code",
   "execution_count": 8,
   "metadata": {},
   "outputs": [
    {
     "name": "stdin",
     "output_type": "stream",
     "text": [
      "Enter a string to check if it's a palindrome:  TAT\n"
     ]
    },
    {
     "name": "stdout",
     "output_type": "stream",
     "text": [
      "'TAT' is a palindrome!\n"
     ]
    }
   ],
   "source": [
    "def check_palindrome(user_string):\n",
    "    # Remove spaces and convert to lowercase\n",
    "    cleaned_string = ''.join(user_string.split()).lower()\n",
    "    # Check if the string is the same when reversed\n",
    "    if cleaned_string == cleaned_string[::-1]:\n",
    "        print(f\"'{user_string}' is a palindrome!\")\n",
    "    else:\n",
    "        print(f\"'{user_string}' is not a palindrome!\")\n",
    "\n",
    "# Test the function\n",
    "input_string = input(\"Enter a string to check if it's a palindrome: \")\n",
    "check_palindrome(input_string)\n"
   ]
  }
 ],
 "metadata": {
  "kernelspec": {
   "display_name": "Python 3 (ipykernel)",
   "language": "python",
   "name": "python3"
  },
  "language_info": {
   "codemirror_mode": {
    "name": "ipython",
    "version": 3
   },
   "file_extension": ".py",
   "mimetype": "text/x-python",
   "name": "python",
   "nbconvert_exporter": "python",
   "pygments_lexer": "ipython3",
   "version": "3.11.7"
  }
 },
 "nbformat": 4,
 "nbformat_minor": 4
}
