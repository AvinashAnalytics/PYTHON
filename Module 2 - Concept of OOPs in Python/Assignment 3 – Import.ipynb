
# Function for addition
def addition(a, b):
    return a + b

# Function for subtraction
def subtraction(a, b):
    return a - b

# Function for multiplication
def multiplication(a, b):
    return a * b

# Function for division
def division(a, b):
    if b != 0:
        return a / b
    else:
        return "Error: Division by zero is not allowed"


# Now, we assume that the Module.py is imported in the following code cell in the Jupyter notebook:

# Import the functions from the Module.py file
# (This will work once you've saved the Module.py in the same directory)

from Module import addition, subtraction, multiplication, division

# Call all four functions and print the results
a = 10
b = 5

addition_result = addition(a, b)
subtraction_result = subtraction(a, b)
multiplication_result = multiplication(a, b)
division_result = division(a, b)

print(f"Addition result: {addition_result}")
print(f"Subtraction result: {subtraction_result}")
print(f"Multiplication result: {multiplication_result}")
print(f"Division result: {division_result}")


# Now, we will import only specific methods for different cases

# Import only the addition method and print the result
from Module import addition
print(f"Addition Result (only): {addition(a, b)}")

# Import only the subtraction method and print the result
from Module import subtraction
print(f"Subtraction Result (only): {subtraction(a, b)}")

# Import both multiplication and division methods and print the results
from Module import multiplication, division
print(f"Multiplication Result (only): {multiplication(a, b)}")
print(f"Division Result (only): {division(a, b)}")
