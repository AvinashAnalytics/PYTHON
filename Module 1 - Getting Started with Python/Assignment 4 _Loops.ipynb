{
 "cells": [
  {
   "cell_type": "markdown",
   "metadata": {},
   "source": [
    "Module 1: Loops\n",
    " Assignment- 2"
   ]
  },
  {
   "cell_type": "markdown",
   "metadata": {},
   "source": [
    " Problem Statement:\n",
    " You work in XYZ Corporation as a Data Analyst. Your company has told you to\n",
    " work with the looping statements.\n",
    " "
   ]
  },
  {
   "cell_type": "markdown",
   "metadata": {},
   "source": [
    "Tasks To Be Performed:\n",
    " 1. Create a list that has 10, 23, 4, 26, 4, 75, 24, 54 values and with the help\n",
    " of while loop fetch the even numbers and print the numbers."
   ]
  },
  {
   "cell_type": "code",
   "execution_count": 3,
   "metadata": {},
   "outputs": [
    {
     "name": "stdout",
     "output_type": "stream",
     "text": [
      "10\n",
      "4\n",
      "26\n",
      "4\n",
      "24\n",
      "54\n"
     ]
    }
   ],
   "source": [
    "# List of numbers\n",
    "numbers = [10, 23, 4, 26, 4, 75, 24, 54]\n",
    "\n",
    "# Initialize the index\n",
    "index = 0\n",
    "\n",
    "# While loop to check each element\n",
    "while index < len(numbers):\n",
    "    if numbers[index] % 2 == 0:  # Check if the number is even\n",
    "        print(numbers[index])  # Print the even number\n",
    "    index += 1  # Increment the index to move to the next number\n"
   ]
  }
 ],
 "metadata": {
  "kernelspec": {
   "display_name": "Python 3 (ipykernel)",
   "language": "python",
   "name": "python3"
  },
  "language_info": {
   "codemirror_mode": {
    "name": "ipython",
    "version": 3
   },
   "file_extension": ".py",
   "mimetype": "text/x-python",
   "name": "python",
   "nbconvert_exporter": "python",
   "pygments_lexer": "ipython3",
   "version": "3.11.7"
  }
 },
 "nbformat": 4,
 "nbformat_minor": 2
}
