{
 "cells": [
  {
   "cell_type": "markdown",
   "metadata": {},
   "source": [
    "## Module 1: Case Study- 2"
   ]
  },
  {
   "cell_type": "markdown",
   "metadata": {},
   "source": [
    " ### Problem Statement:\n",
    " Consider yourself to be Sam who is a data scientist. He has been invited as a\n",
    " guest lecturer at a college to take an introductory session on Python."
   ]
  },
  {
   "cell_type": "markdown",
   "metadata": {
    "vscode": {
     "languageId": "plaintext"
    }
   },
   "source": [
    "Tasks To Be Performed:"
   ]
  },
  {
   "cell_type": "markdown",
   "metadata": {},
   "source": [
    "1. Create 1st tuple with values-> (10, 20, 30), 2nd tuple with values-> (40,\n",
    " 50, 60):\n",
    " a. Concatenate the two tuples and store it in “t_combine”\n",
    " b. Repeat the elements of “t_combine” 3 times\n",
    " c. Access the 3rd element from “t_combine”\n",
    " d. Access the first three elements from “t_combine”\n",
    " e. Access the last three elements from “t_combine”"
   ]
  },
  {
   "cell_type": "code",
   "execution_count": 4,
   "metadata": {},
   "outputs": [
    {
     "name": "stdout",
     "output_type": "stream",
     "text": [
      "Concatenated Tuple: (10, 20, 30, 40, 50, 60)\n",
      "Repeated Tuple: (10, 20, 30, 40, 50, 60, 10, 20, 30, 40, 50, 60, 10, 20, 30, 40, 50, 60)\n",
      "3rd Element: 30\n",
      "First Three Elements: (10, 20, 30)\n",
      "Last Three Elements: (40, 50, 60)\n"
     ]
    }
   ],
   "source": [
    "# Define the tuples\n",
    "t1 = (10, 20, 30)\n",
    "t2 = (40, 50, 60)\n",
    "\n",
    "# a. Concatenate the two tuples\n",
    "t_combine = t1 + t2\n",
    "print(\"Concatenated Tuple:\", t_combine)\n",
    "\n",
    "# b. Repeat the elements of t_combine 3 times\n",
    "t_repeated = t_combine * 3\n",
    "print(\"Repeated Tuple:\", t_repeated)\n",
    "\n",
    "# c. Access the 3rd element from t_combine\n",
    "third_element = t_combine[2]\n",
    "print(\"3rd Element:\", third_element)\n",
    "\n",
    "# d. Access the first three elements from t_combine\n",
    "first_three_elements = t_combine[:3]\n",
    "print(\"First Three Elements:\", first_three_elements)\n",
    "\n",
    "# e. Access the last three elements from t_combine\n",
    "last_three_elements = t_combine[-3:]\n",
    "print(\"Last Three Elements:\", last_three_elements)\n"
   ]
  },
  {
   "cell_type": "markdown",
   "metadata": {},
   "source": [
    "2. Create a list ‘my_list’ with these elements:\n",
    "\n",
    " a. First element is a tuple with values 1, 2, 3\n",
    "\n",
    " b. Second element is a tuple with values “a”, “b”, “c”\n",
    " \n",
    " c. Third element is a tuple with values True, False"
   ]
  },
  {
   "cell_type": "code",
   "execution_count": 5,
   "metadata": {},
   "outputs": [
    {
     "name": "stdout",
     "output_type": "stream",
     "text": [
      "[(1, 2, 3), ('a', 'b', 'c'), (True, False)]\n"
     ]
    }
   ],
   "source": [
    "# Creating the list with tuples as elements\n",
    "my_list = [\n",
    "    (1, 2, 3),  # First tuple\n",
    "    (\"a\", \"b\", \"c\"),  # Second tuple\n",
    "    (True, False)  # Third tuple\n",
    "]\n",
    "\n",
    "# Print the list\n",
    "print(my_list)\n"
   ]
  },
  {
   "cell_type": "markdown",
   "metadata": {},
   "source": [
    "3.Append a new tuple– (1, ‘a’, True) to ‘my_list’:\n",
    "\n",
    " a. Append a new list– *“sparta”, 123+ to my_list"
   ]
  },
  {
   "cell_type": "code",
   "execution_count": 6,
   "metadata": {},
   "outputs": [
    {
     "name": "stdout",
     "output_type": "stream",
     "text": [
      "[(1, 2, 3), ('a', 'b', 'c'), (True, False), (1, 'a', True), ['sparta', 123]]\n"
     ]
    }
   ],
   "source": [
    "# Initial list with tuples\n",
    "my_list = [\n",
    "    (1, 2, 3),  # First tuple\n",
    "    (\"a\", \"b\", \"c\"),  # Second tuple\n",
    "    (True, False)  # Third tuple\n",
    "]\n",
    "\n",
    "# a. Append a new tuple (1, 'a', True)\n",
    "my_list.append((1, 'a', True))\n",
    "\n",
    "# b. Append a new list [\"sparta\", 123]\n",
    "my_list.append([\"sparta\", 123])\n",
    "\n",
    "# Print the updated list\n",
    "print(my_list)\n"
   ]
  },
  {
   "cell_type": "markdown",
   "metadata": {},
   "source": [
    " 4. Create a dictionary ‘fruit’ where:\n",
    "\n",
    " a. The first key is ‘Fruit’ and the values are (“Apple”, “Banana”, “Mango”,\n",
    " “Guava”)\n",
    "\n",
    " b. The second key is ‘Cost’ and the values are (85, 54, 120, 70)\n",
    "\n",
    " c. Extract all the keys from ‘fruit’\n",
    " \n",
    " d. Extract all the values from ‘fruit’\n",
    " "
   ]
  },
  {
   "cell_type": "code",
   "execution_count": 7,
   "metadata": {},
   "outputs": [
    {
     "name": "stdout",
     "output_type": "stream",
     "text": [
      "Keys: dict_keys(['Fruit', 'Cost'])\n",
      "Values: dict_values([('Apple', 'Banana', 'Mango', 'Guava'), (85, 54, 120, 70)])\n"
     ]
    }
   ],
   "source": [
    "# Creating the dictionary\n",
    "fruit = {\n",
    "    'Fruit': (\"Apple\", \"Banana\", \"Mango\", \"Guava\"),\n",
    "    'Cost': (85, 54, 120, 70)\n",
    "}\n",
    "\n",
    "# a. Extract all the keys from 'fruit'\n",
    "keys = fruit.keys()\n",
    "print(\"Keys:\", keys)\n",
    "\n",
    "# b. Extract all the values from 'fruit'\n",
    "values = fruit.values()\n",
    "print(\"Values:\", values)\n"
   ]
  },
  {
   "cell_type": "markdown",
   "metadata": {},
   "source": [
    "5. Create a set named ‘my_set’ with values (1, 1, “a”, “a”, True, True) and\n",
    " print the result.\n"
   ]
  },
  {
   "cell_type": "code",
   "execution_count": 8,
   "metadata": {},
   "outputs": [
    {
     "name": "stdout",
     "output_type": "stream",
     "text": [
      "Set: {1, 'a'}\n"
     ]
    }
   ],
   "source": [
    "# Creating the set\n",
    "my_set = {1, 1, \"a\", \"a\", True, True}\n",
    "\n",
    "# Print the set\n",
    "print(\"Set:\", my_set)\n"
   ]
  }
 ],
 "metadata": {
  "kernelspec": {
   "display_name": "base",
   "language": "python",
   "name": "python3"
  },
  "language_info": {
   "codemirror_mode": {
    "name": "ipython",
    "version": 3
   },
   "file_extension": ".py",
   "mimetype": "text/x-python",
   "name": "python",
   "nbconvert_exporter": "python",
   "pygments_lexer": "ipython3",
   "version": "3.11.7"
  }
 },
 "nbformat": 4,
 "nbformat_minor": 2
}
