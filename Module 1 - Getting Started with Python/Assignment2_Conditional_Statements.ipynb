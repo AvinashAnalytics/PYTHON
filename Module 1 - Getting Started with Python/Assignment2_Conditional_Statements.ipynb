{
 "cells": [
  {
   "cell_type": "markdown",
   "metadata": {},
   "source": [
    "Module 1: Conditional Statements Assignment"
   ]
  },
  {
   "cell_type": "markdown",
   "metadata": {},
   "source": [
    " ## Problem Statement:\n",
    " You work in XYZ Corporation as a Data Analyst. Your company has told you to\n",
    " work with the if-else condition.\n",
    " "
   ]
  },
  {
   "cell_type": "markdown",
   "metadata": {},
   "source": [
    "# Tasks To Be Performed:\n",
    " 1. Take three user inputs and print the greatest number from those inputs\n",
    " using if-else condition. Edge cases, if any, should also be handled."
   ]
  },
  {
   "cell_type": "code",
   "execution_count": 1,
   "metadata": {},
   "outputs": [
    {
     "name": "stdin",
     "output_type": "stream",
     "text": [
      "Enter the first number:  12\n",
      "Enter the second number:  23\n",
      "Enter the third number:  32\n"
     ]
    },
    {
     "name": "stdout",
     "output_type": "stream",
     "text": [
      "The greatest number is: 32.0\n"
     ]
    }
   ],
   "source": [
    "# Taking three inputs from the user\n",
    "num1 = float(input(\"Enter the first number: \"))\n",
    "num2 = float(input(\"Enter the second number: \"))\n",
    "num3 = float(input(\"Enter the third number: \"))\n",
    "\n",
    "# Using if-else to find the greatest number\n",
    "if (num1 >= num2) and (num1 >= num3):\n",
    "    greatest = num1\n",
    "elif (num2 >= num1) and (num2 >= num3):\n",
    "    greatest = num2\n",
    "else:\n",
    "    greatest = num3\n",
    "\n",
    "# Printing the greatest number\n",
    "print(\"The greatest number is:\", greatest)\n"
   ]
  }
 ],
 "metadata": {
  "kernelspec": {
   "display_name": "Python 3 (ipykernel)",
   "language": "python",
   "name": "python3"
  },
  "language_info": {
   "codemirror_mode": {
    "name": "ipython",
    "version": 3
   },
   "file_extension": ".py",
   "mimetype": "text/x-python",
   "name": "python",
   "nbconvert_exporter": "python",
   "pygments_lexer": "ipython3",
   "version": "3.11.7"
  }
 },
 "nbformat": 4,
 "nbformat_minor": 4
}
