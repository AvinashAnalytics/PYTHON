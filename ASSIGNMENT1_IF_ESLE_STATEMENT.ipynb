{
 "cells": [
  {
   "cell_type": "markdown",
   "metadata": {},
   "source": [
    "Module 1: If-Else Assignment"
   ]
  },
  {
   "cell_type": "markdown",
   "metadata": {},
   "source": [
    " ## Problem Statement:\n",
    " You work in XYZ Corporation as a Data Analyst. Your company has told you to\n",
    " work with the if-else condition"
   ]
  },
  {
   "cell_type": "markdown",
   "metadata": {},
   "source": [
    " ## Tasks To Be Performed:\n",
    " 1. Input the values of a and b as 10 and 20 respectively. Now check if a is\n",
    " greater or b is greater using if condition. Think about all the edge cases,\n",
    " and print the statements accordingly."
   ]
  },
  {
   "cell_type": "code",
   "execution_count": null,
   "metadata": {},
   "outputs": [
    {
     "name": "stdout",
     "output_type": "stream",
     "text": [
      "b is greater than a\n"
     ]
    }
   ],
   "source": [
    "a = 10\n",
    "b = 20\n",
    "\n",
    "# Check if a is greater, b is greater, or if they are equal\n",
    "if a > b:\n",
    "    print(\"a is greater than b\")\n",
    "elif b > a:\n",
    "    print(\"b is greater than a\")\n",
    "else:\n",
    "    print(\"a and b are equal\")"
   ]
  }
 ],
 "metadata": {
  "kernelspec": {
   "display_name": "base",
   "language": "python",
   "name": "python3"
  },
  "language_info": {
   "codemirror_mode": {
    "name": "ipython",
    "version": 3
   },
   "file_extension": ".py",
   "mimetype": "text/x-python",
   "name": "python",
   "nbconvert_exporter": "python",
   "pygments_lexer": "ipython3",
   "version": "3.11.7"
  }
 },
 "nbformat": 4,
 "nbformat_minor": 2
}
